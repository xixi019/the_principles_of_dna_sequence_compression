{
 "cells": [
  {
   "cell_type": "markdown",
   "id": "d259ca9b-ad28-47e6-9777-80740cdbfbbf",
   "metadata": {},
   "source": [
    "# The Principles of DNA Sequence Compression\n",
    "\n",
    "First let's import everything we need:"
   ]
  },
  {
   "cell_type": "code",
   "execution_count": 28,
   "id": "a0101378-f4d8-452e-b05d-16a49ad80773",
   "metadata": {},
   "outputs": [],
   "source": [
    "import gzip\n",
    "import math\n",
    "import matplotlib.pyplot as plt\n",
    "import random\n",
    "\n",
    "import alignment\n",
    "import entropy"
   ]
  },
  {
   "cell_type": "markdown",
   "id": "ca3f8d1f-549c-49b8-abeb-c1ac7218c077",
   "metadata": {},
   "source": [
    "## Quantification of Information\n",
    "\n",
    "Information theory is based on the observation that knowing that a likely event has occurred is less informative than knowing that an unlikely event has occurred.\n",
    "\n",
    "A quantification of information should have the following properties:\n",
    "\n",
    "- Likely events should have a low information content, and events that are certain to occur should have no information content at all. Less likely events should have a higher information content.\n",
    "- Independent events should have additive information content.\n",
    "\n",
    "The self-information of an event $x$ is hence defined as\n",
    "\n",
    "$$I(x)=-\\log{}P(x).$$\n",
    "\n",
    "By using the base-2 logarithm, the unit of self-information is bit. Hence, one bit is the amount of information gained by observing an event of probability $\\frac{1}{2}$.\n",
    "\n",
    "Self-information deals only with a single event $x$. By computing the expectation of the self-information with respect to the entire probability distribution $P(\\text{x})$ we obtain the entropy\n",
    "\n",
    "$$H(\\text{x})=\\mathbb{E}_{\\text{x}\\sim{}P}[I(x)]=-\\mathbb{E}_{\\text{x}\\sim{}P}[\\log{}P(x)]=-\\sum_{x}P(x)\\log{}P(x).$$\n",
    "\n",
    "The entropy gives the average information that is expected in an event $x$ drawn from probability distribution $P(\\text{x})$.\n",
    "\n",
    "**Experiment** &mdash; Compute the entropy of the sequences `AAAA`, `AACC`, `ACGT`."
   ]
  },
  {
   "cell_type": "code",
   "execution_count": 29,
   "id": "f9a4740a-f565-4e6e-a323-3de8f0f51ea0",
   "metadata": {},
   "outputs": [
    {
     "name": "stdout",
     "output_type": "stream",
     "text": [
      "Entropy of 'AAAA': 0.00 bit/symbol\n",
      "Entropy of 'AACC': 1.00 bit/symbol\n",
      "Entropy of 'ACGT': 2.00 bit/symbol\n"
     ]
    }
   ],
   "source": [
    "for s in ['AAAA', 'AACC', 'ACGT']:\n",
    "    eta = entropy.entropy(s)\n",
    "    print(\"Entropy of '{}': {:.2f} bit/symbol\".format(s, round(eta, 2)))"
   ]
  },
  {
   "cell_type": "markdown",
   "id": "5084ad35-b8b1-46dc-b7bc-ef001b2dbbf1",
   "metadata": {},
   "source": [
    "## Na&iuml;ve Compression of DNA Sequencing Reads\n",
    "\n",
    "The FASTQ format is the de-facto standard for the storage of reads, i.e., nucleotide sequences, including corresponding quality scores.\n",
    "\n",
    "Each read is represented by a single FASTQ record, which consists of four lines:\n",
    "- The first line contains the read identifier. It starts with `@`. Typically, sequencing machine vendors generate read identifiers in a proprietary systematic way.\n",
    "- The second line contains the nucleotide sequence, where each nucleotide is represented with a single ASCII character.\n",
    "- The third line starts with `+` and contains an optional description. Usually this line is left empty; it then only contains `+` as separator between the nucleotide sequence and the quality scores.\n",
    "- The fourth line contains the quality scores. A quality score is a value indicating the confidence in a base call.\n",
    "\n",
    "We can convert a FASTQ record (four lines) into a dictionary with the following function:"
   ]
  },
  {
   "cell_type": "code",
   "execution_count": 30,
   "id": "8089ca1d-f87b-4dfe-b64a-4162d95f902b",
   "metadata": {},
   "outputs": [],
   "source": [
    "def fastq_lines_to_dict(lines):\n",
    "    keys = ['id', 'seq', 'desc', 'qual']\n",
    "    return {key: value for key, value in zip(keys, lines)}"
   ]
  },
  {
   "cell_type": "markdown",
   "id": "6bd874f6-6711-43c7-9f0e-bc092a95b89b",
   "metadata": {},
   "source": [
    "**Experiment** &mdash; Parse the FASTQ file `example.fastq`."
   ]
  },
  {
   "cell_type": "code",
   "execution_count": 31,
   "id": "9fc40f30-c4c8-44d2-9bbe-bb6eca6cde48",
   "metadata": {},
   "outputs": [
    {
     "name": "stdout",
     "output_type": "stream",
     "text": [
      "Record 0: {'id': '@id0', 'seq': 'GATTTGGGGTTCAAAGCAGTATCGATCAAATA', 'desc': '+', 'qual': \"!''*((((***+))%%%++)(%%%%).1***-\"}\n",
      "Record 1: {'id': '@id1', 'seq': 'GATTTGGGGTTCAAAGCAGTATCGATCAAATA', 'desc': '+', 'qual': \"!''*((((***+))%%%++)(%%%%).1***-\"}\n",
      "Record 2: {'id': '@id2', 'seq': 'GATTTGGGGTTCAAAGCAGTATCGATCAAATA', 'desc': '+', 'qual': \"!''*((((***+))%%%++)(%%%%).1***-\"}\n",
      "Record 3: {'id': '@id3', 'seq': 'GATTTGGGGTTCAAAGCAGTATCGATCAAATA', 'desc': '+', 'qual': \"!''*((((***+))%%%++)(%%%%).1***-\"}\n"
     ]
    }
   ],
   "source": [
    "file_name = 'example.fastq'\n",
    "records = []\n",
    "\n",
    "with open(file_name, 'r') as f:\n",
    "    lines = []\n",
    "    for line in f:\n",
    "        lines.append(line.rstrip())\n",
    "        if (len(lines)) == 4:\n",
    "            records.append(fastq_lines_to_dict(lines))\n",
    "            lines = []\n",
    "\n",
    "for i, r in enumerate(records):\n",
    "    print('Record {}: {}'.format(i, str(r)))"
   ]
  },
  {
   "cell_type": "markdown",
   "id": "2e130c69-e9e7-43be-a221-aa5327abcecf",
   "metadata": {},
   "source": [
    "**Experiment** &mdash; Concatenate all nucleotide sequences from the FASTQ file `example.fastq`. Compute the entropy and the maximum (worst-case) compressed size in bit and byte."
   ]
  },
  {
   "cell_type": "code",
   "execution_count": 32,
   "id": "b3348e02-5bd5-49b2-be52-fc46bfd3e84f",
   "metadata": {},
   "outputs": [
    {
     "name": "stdout",
     "output_type": "stream",
     "text": [
      "Concatenated sequence length: 128\n",
      "Entropy: 1.92 bit/symbol\n",
      "Maximum compressed size: 246 bit = 31 byte\n",
      "Worst-case compression ratio: 4.1x\n"
     ]
    }
   ],
   "source": [
    "seq = ''\n",
    "for r in records:\n",
    "    seq += r['seq']\n",
    "seq_len = len(seq)\n",
    "print('Concatenated sequence length: {}'.format(seq_len))\n",
    "\n",
    "eta = entropy.entropy(seq)\n",
    "print(\"Entropy: {:.2f} bit/symbol\".format(round(eta, 2)))\n",
    "\n",
    "max_size_in_bit = math.ceil(eta * seq_len)\n",
    "max_size_in_byte = math.ceil(max_size_in_bit / 8)\n",
    "\n",
    "print('Maximum compressed size: {} bit = {} byte'.format(max_size_in_bit, max_size_in_byte))\n",
    "print('Worst-case compression ratio: {:.1f}x'.format(seq_len / max_size_in_byte))"
   ]
  },
  {
   "cell_type": "markdown",
   "id": "0136195c-5134-4435-82e4-e95356f44415",
   "metadata": {},
   "source": [
    "**Experiment** &mdash; Use gzip to beat the estimated worst-case compression."
   ]
  },
  {
   "cell_type": "code",
   "execution_count": 33,
   "id": "07bf299c-c613-4731-a393-71ee6be2bce0",
   "metadata": {},
   "outputs": [
    {
     "name": "stdout",
     "output_type": "stream",
     "text": [
      "Worst-case compression ratio: 4.2x\n",
      "Gzip compression ratio: 22.9x\n"
     ]
    }
   ],
   "source": [
    "amplification_factor = 10\n",
    "\n",
    "seq = ''\n",
    "for r in records:\n",
    "    seq += r['seq']\n",
    "seq = seq * amplification_factor\n",
    "seq_len = len(seq)\n",
    "\n",
    "compressed_seq = gzip.compress(data=bytes(seq, 'utf-8'))\n",
    "decompressed_seq = gzip.decompress(data=compressed_seq).decode('utf-8')\n",
    "\n",
    "if decompressed_seq != seq:\n",
    "    raise RuntimeError('decompressed sequence is *not* equal to the original sequence')\n",
    "\n",
    "max_size_in_byte = math.ceil((math.ceil(entropy.entropy(seq) * seq_len)) / 8)\n",
    "    \n",
    "print('Worst-case compression ratio: {:.1f}x'.format(seq_len / max_size_in_byte))\n",
    "print('Gzip compression ratio: {:.1f}x'.format(seq_len / len(compressed_seq)))"
   ]
  },
  {
   "cell_type": "markdown",
   "id": "ec0a95d7-4fce-4f00-ae28-702c0c56bf21",
   "metadata": {},
   "source": [
    "## Using Alignment to Improve Compression of DNA Sequence Reads\n",
    "\n",
    "The Needleman-Wunsch algorithm finds the optimal *global* alignment (end-to-end) between two sequences. It consists of the following steps:\n",
    "\n",
    "- Construct the grid\n",
    "- Choose a scoring system (here we use the original scoring system assigning a score of 1 to a match and a score of -1 to a mismatch or indel/gap)\n",
    "- Fill in the scoring matrix (and construct the pointer matrix on the way)\n",
    "- Use the pointer matrix to perform a traceback to recover the optimal warping path\n",
    "\n",
    "The scores are computed using the already existing scores in the left, top-left, and top cells:\n",
    "\n",
    "$$\n",
    "F(i,j)=\\max\\begin{cases}F(i-1,j-1)+s(x_i,y_i),\\\\F(i-1,j)-d,\\\\F(i,j-1)-d.\\end{cases}\n",
    "$$\n",
    "\n",
    "The following image illustrates the scoring and pointer matrices.\n",
    "\n",
    "![Needleman-Wunsch pairwise sequence alignment](needleman-wunsch_pairwise_sequence_alignment.png)\n",
    "\n",
    "**Experiment** &mdash; Perform the global alignment between the sequences `GATTACA` and `CATACCCA`. Plot the scoring matrix and the warping path."
   ]
  },
  {
   "cell_type": "code",
   "execution_count": 34,
   "id": "e22dffac-2c90-4c02-810c-03f6ae3bf698",
   "metadata": {},
   "outputs": [
    {
     "data": {
      "image/png": "[encoded data removed]",
      "text/plain": [
       "<Figure size 576x576 with 1 Axes>"
      ]
     },
     "metadata": {
      "needs_background": "light"
     },
     "output_type": "display_data"
    }
   ],
   "source": [
    "x = 'GATTACA'\n",
    "y = 'CATACCCA'\n",
    "\n",
    "x_aligned, y_aligned, path_x, path_y, F = alignment.align(x, y, mode='global')\n",
    "\n",
    "%matplotlib inline\n",
    "plt.figure(figsize=[8, 8])\n",
    "plt.imshow(F)\n",
    "plt.xticks(ticks=range(len(y)), labels=y)\n",
    "plt.yticks(ticks=range(len(x)), labels=x)\n",
    "plt.plot(path_y, path_x, 'w')\n",
    "plt.show()"
   ]
  },
  {
   "cell_type": "markdown",
   "id": "2f46e80f-8619-49c0-bb1b-3a9abfedc533",
   "metadata": {},
   "source": [
    "The Smith-Waterman algorithm finds the optimal *local* alignment between two sequences. It is a variation of the Needleman-Wunsch algorithm. The three main differences are:\n",
    "\n",
    "|                | Smith-Waterman algorithm                                | Needleman-Wunsch algorithm                                                 |\n",
    "|----------------|---------------------------------------------------------|----------------------------------------------------------------------------|\n",
    "| Initialization | First row/column = 0                                    | First row/column subject to gap penalty                                    |\n",
    "| Scoring        | Negative scores are set to 0                            | Scores can be negative                                                     |\n",
    "| Traceback      | Begin with the highest score, end when 0 is encountered | Begin with the cell at the lower right of the matrix, end at top left cell |\n",
    "\n",
    "**Experiment** &mdash; Perform the local alignment between the sequences `GATACCA` and `NNNNNNNNNNGATTACANNNNNNNNGATNNNNNNNNN`. Plot the scoring matrix and the warping path."
   ]
  },
  {
   "cell_type": "code",
   "execution_count": 35,
   "id": "3ad3e05c-8749-44ae-ab43-0405758698ad",
   "metadata": {},
   "outputs": [
    {
     "name": "stdout",
     "output_type": "stream",
     "text": [
      "alignment.align: multiple (2) possible traceback starts, choosing [ 7 17]\n"
     ]
    },
    {
     "data": {
      "image/png": "[encoded data removed]",
      "text/plain": [
       "<Figure size 1440x720 with 1 Axes>"
      ]
     },
     "metadata": {
      "needs_background": "light"
     },
     "output_type": "display_data"
    }
   ],
   "source": [
    "x = 'GATACCA'\n",
    "y = 'NNNNNNNNNNGATTACANNNNNNNNGATNNNNNNNNN'\n",
    "\n",
    "x_aligned, y_aligned, path_x, path_y, F = alignment.align(x, y, mode='local')\n",
    "\n",
    "%matplotlib inline\n",
    "plt.figure(figsize=[20, 10])\n",
    "plt.imshow(F)\n",
    "plt.xticks(ticks=range(len(y)), labels=y)\n",
    "plt.yticks(ticks=range(len(x)), labels=x)\n",
    "plt.plot(path_y, path_x, 'w')\n",
    "plt.show()"
   ]
  },
  {
   "cell_type": "markdown",
   "id": "96b0fda5-d236-4017-99cb-67517687086a",
   "metadata": {},
   "source": [
    "The compression of reads can be improved by aligning them to a known reference sequence.\n",
    "\n",
    "**Experiment** &mdash; Sample 10 reads from the reference sequence `GATTTGGGGTTCAAAGCAGTATCGATCAAATAGTAAATCCATTTGTTCAACTCACAGTTTA`."
   ]
  },
  {
   "cell_type": "code",
   "execution_count": 36,
   "id": "a735f6f8-c63b-450b-944d-1893b7bbec44",
   "metadata": {},
   "outputs": [
    {
     "name": "stdout",
     "output_type": "stream",
     "text": [
      "Read 0: AAGCAGTA \n",
      "Read 1: GATCA \n",
      "Read 2: TCACA \n",
      "Read 3: CCATTT \n",
      "Read 4: CAGTTTA \n",
      "Read 5: ACTCACA \n",
      "Read 6: TTTGTTC \n",
      "Read 7: TTTGTTCA \n",
      "Read 8: TTTGT \n",
      "Read 9: TTGTTCAA \n"
     ]
    }
   ],
   "source": [
    "ref = 'GATTTGGGGTTCAAAGCAGTATCGATCAAATAGTAAATCCATTTGTTCAACTCACAGTTTA'\n",
    "\n",
    "num_reads = 10\n",
    "min_read_len = 5\n",
    "max_read_len = 10\n",
    "\n",
    "reads = []\n",
    "\n",
    "for i in range(num_reads):\n",
    "    start = 0\n",
    "    end = 0\n",
    "    range_acquired = False\n",
    "    while not range_acquired:\n",
    "        start = random.randrange(len(ref))\n",
    "        end = random.randrange(len(ref))\n",
    "        if start > end:\n",
    "            continue\n",
    "        range_len = end - start + 1\n",
    "        if range_len < min_read_len:\n",
    "            continue\n",
    "        if range_len > max_read_len:\n",
    "            continue\n",
    "        range_acquired = True\n",
    "    read = ref[start:(end + 1)]\n",
    "    reads.append(read)\n",
    "    print('Read {}: {} '.format(i, read))"
   ]
  },
  {
   "cell_type": "markdown",
   "id": "999c8dd2-ac46-4c5a-bb03-f59933161e30",
   "metadata": {},
   "source": [
    "**Experiment** &mdash; Add some noise to the sampled reads."
   ]
  },
  {
   "cell_type": "code",
   "execution_count": 37,
   "id": "d27d8e64-6e3a-4d06-abb4-63c4bec20d68",
   "metadata": {},
   "outputs": [
    {
     "name": "stdout",
     "output_type": "stream",
     "text": [
      "Added 1 noisy bases: AAGCAGTA   -> AACCAGTA  \n",
      "Added 0 noisy bases: GATCA      -> GATCA     \n",
      "Added 2 noisy bases: TCACA      -> TCAGC     \n",
      "Added 2 noisy bases: CCATTT     -> CAATAT    \n",
      "Added 2 noisy bases: CAGTTTA    -> CAATTTC   \n",
      "Added 0 noisy bases: ACTCACA    -> ACTCACA   \n",
      "Added 4 noisy bases: TTTGTTC    -> TTCAATG   \n",
      "Added 0 noisy bases: TTTGTTCA   -> TTTGTTCA  \n",
      "Added 2 noisy bases: TTTGT      -> TGCGT     \n",
      "Added 3 noisy bases: TTGTTCAA   -> TTGATGGA  \n"
     ]
    }
   ],
   "source": [
    "def add_noise(read, abundance=2):\n",
    "    choices = ['A', 'C', 'G', 'T']\n",
    "    num_noisy_bases = 0\n",
    "    noisy_read = ''\n",
    "    for base in read:\n",
    "        if not random.randrange(abundance):\n",
    "            noisy_read += random.choice([c for c in choices if c != base])\n",
    "            num_noisy_bases += 1\n",
    "        else:\n",
    "            noisy_read += base\n",
    "    return noisy_read, num_noisy_bases\n",
    "\n",
    "noisy_reads = []\n",
    "for r in reads:\n",
    "    noisy_read, num_noisy_bases = add_noise(read=r, abundance=4)\n",
    "    print('Added {} noisy bases: {:10s} -> {:10s}'.format(num_noisy_bases, r, noisy_read))\n",
    "    noisy_reads.append(noisy_read)"
   ]
  },
  {
   "cell_type": "markdown",
   "id": "1b31399a-b2e3-4e13-949d-ff090051a4df",
   "metadata": {},
   "source": [
    "**Experiment** &mdash; Align the noisy reads locally to the reference sequence. Compute the residual of each noisy read w.r.t. the reference sequence."
   ]
  },
  {
   "cell_type": "code",
   "execution_count": 38,
   "id": "49df8a38-6ec8-460a-aa81-d247195e3402",
   "metadata": {},
   "outputs": [
    {
     "name": "stdout",
     "output_type": "stream",
     "text": [
      "Noisy read            : AACCAGTA\n",
      "Reference subsequence : AAGCAGTA\n",
      "Aligned read          : AACCAGTA (0 base(s) clipped from the alignment)\n",
      "Residual              : mmCmmmmm\n"
     ]
    },
    {
     "data": {
      "image/png": "[encoded data removed]",
      "text/plain": [
       "<Figure size 1440x720 with 1 Axes>"
      ]
     },
     "metadata": {
      "needs_background": "light"
     },
     "output_type": "display_data"
    },
    {
     "name": "stdout",
     "output_type": "stream",
     "text": [
      "Noisy read            : GATCA\n",
      "Reference subsequence : GATCA\n",
      "Aligned read          : GATCA (0 base(s) clipped from the alignment)\n",
      "Residual              : mmmmm\n"
     ]
    },
    {
     "data": {
      "image/png": "[encoded data removed]",
      "text/plain": [
       "<Figure size 1440x720 with 1 Axes>"
      ]
     },
     "metadata": {
      "needs_background": "light"
     },
     "output_type": "display_data"
    },
    {
     "name": "stdout",
     "output_type": "stream",
     "text": [
      "alignment.align: multiple (9) possible traceback starts, choosing [ 3 13]\n",
      "Noisy read            : TCAGC\n",
      "Reference subsequence : TCA\n",
      "Aligned read          : TCA (2 base(s) clipped from the alignment)\n",
      "Residual              : mmm\n"
     ]
    },
    {
     "data": {
      "image/png": "[encoded data removed]",
      "text/plain": [
       "<Figure size 1440x720 with 1 Axes>"
      ]
     },
     "metadata": {
      "needs_background": "light"
     },
     "output_type": "display_data"
    },
    {
     "name": "stdout",
     "output_type": "stream",
     "text": [
      "alignment.align: multiple (4) possible traceback starts, choosing [ 6 34]\n",
      "Noisy read            : CAATAT\n",
      "Reference subsequence : AATAGT\n",
      "Aligned read          : AATA-T (1 base(s) clipped from the alignment)\n",
      "Residual              : mmmm-m\n"
     ]
    },
    {
     "data": {
      "image/png": "[encoded data removed]",
      "text/plain": [
       "<Figure size 1440x720 with 1 Axes>"
      ]
     },
     "metadata": {
      "needs_background": "light"
     },
     "output_type": "display_data"
    },
    {
     "name": "stdout",
     "output_type": "stream",
     "text": [
      "alignment.align: multiple (3) possible traceback starts, choosing [ 6 44]\n",
      "Noisy read            : CAATTTC\n",
      "Reference subsequence : ATTT\n",
      "Aligned read          : ATTT (3 base(s) clipped from the alignment)\n",
      "Residual              : mmmm\n"
     ]
    },
    {
     "data": {
      "image/png": "[encoded data removed]",
      "text/plain": [
       "<Figure size 1440x720 with 1 Axes>"
      ]
     },
     "metadata": {
      "needs_background": "light"
     },
     "output_type": "display_data"
    },
    {
     "name": "stdout",
     "output_type": "stream",
     "text": [
      "Noisy read            : ACTCACA\n",
      "Reference subsequence : ACTCACA\n",
      "Aligned read          : ACTCACA (0 base(s) clipped from the alignment)\n",
      "Residual              : mmmmmmm\n"
     ]
    },
    {
     "data": {
      "image/png": "[encoded data removed]",
      "text/plain": [
       "<Figure size 1440x720 with 1 Axes>"
      ]
     },
     "metadata": {
      "needs_background": "light"
     },
     "output_type": "display_data"
    },
    {
     "name": "stdout",
     "output_type": "stream",
     "text": [
      "alignment.align: multiple (4) possible traceback starts, choosing [ 5 14]\n",
      "Noisy read            : TTCAATG\n",
      "Reference subsequence : TTCAA\n",
      "Aligned read          : TTCAA (2 base(s) clipped from the alignment)\n",
      "Residual              : mmmmm\n"
     ]
    },
    {
     "data": {
      "image/png": "[encoded data removed]",
      "text/plain": [
       "<Figure size 1440x720 with 1 Axes>"
      ]
     },
     "metadata": {
      "needs_background": "light"
     },
     "output_type": "display_data"
    },
    {
     "name": "stdout",
     "output_type": "stream",
     "text": [
      "Noisy read            : TTTGTTCA\n",
      "Reference subsequence : TTTGTTCA\n",
      "Aligned read          : TTTGTTCA (0 base(s) clipped from the alignment)\n",
      "Residual              : mmmmmmmm\n"
     ]
    },
    {
     "data": {
      "image/png": "[encoded data removed]",
      "text/plain": [
       "<Figure size 1440x720 with 1 Axes>"
      ]
     },
     "metadata": {
      "needs_background": "light"
     },
     "output_type": "display_data"
    },
    {
     "name": "stdout",
     "output_type": "stream",
     "text": [
      "Noisy read            : TGCGT\n",
      "Reference subsequence : GCAGT\n",
      "Aligned read          : GC-GT (1 base(s) clipped from the alignment)\n",
      "Residual              : mm-mm\n"
     ]
    },
    {
     "data": {
      "image/png": "[encoded data removed]",
      "text/plain": [
       "<Figure size 1440x720 with 1 Axes>"
      ]
     },
     "metadata": {
      "needs_background": "light"
     },
     "output_type": "display_data"
    },
    {
     "name": "stdout",
     "output_type": "stream",
     "text": [
      "alignment.align: multiple (10) possible traceback starts, choosing [7 7]\n",
      "Noisy read            : TTGATGGA\n",
      "Reference subsequence : TGG\n",
      "Aligned read          : TGG (5 base(s) clipped from the alignment)\n",
      "Residual              : mmm\n"
     ]
    },
    {
     "data": {
      "image/png": "[encoded data removed]",
      "text/plain": [
       "<Figure size 1440x720 with 1 Axes>"
      ]
     },
     "metadata": {
      "needs_background": "light"
     },
     "output_type": "display_data"
    },
    {
     "name": "stdout",
     "output_type": "stream",
     "text": [
      "In total, 14 bases were clipped\n"
     ]
    }
   ],
   "source": [
    "residuals = []\n",
    "total_num_clipped_bases = 0\n",
    "\n",
    "for r in noisy_reads:\n",
    "    read_aligned, ref_aligned, path_x, path_y, F = alignment.align(x=r, y=ref, mode='local')\n",
    "\n",
    "    read_aligned_without_gaps = read_aligned.replace('-', '')\n",
    "    num_clipped_bases = len(r) - len(read_aligned_without_gaps)\n",
    "    total_num_clipped_bases += num_clipped_bases\n",
    "    \n",
    "    ref_subsequence = ref[path_y[0]:(path_y[-1] + 1)]\n",
    "    residual = ''\n",
    "    for i in range(len(read_aligned)):\n",
    "        if i >= len(ref_subsequence) or read_aligned[i] != ref_subsequence[i]:\n",
    "            residual += read_aligned[i]\n",
    "        else:\n",
    "            residual += 'm'\n",
    "    residuals.append(residual)\n",
    "    \n",
    "    print('Noisy read            : {}'.format(r))\n",
    "    print('Reference subsequence : {}'.format(ref_subsequence))\n",
    "    print('Aligned read          : {} ({} base(s) clipped from the alignment)'.format(read_aligned, num_clipped_bases))\n",
    "    print('Residual              : {}'.format(residual))\n",
    "    \n",
    "    %matplotlib inline\n",
    "    plt.figure(figsize=[20,10])\n",
    "    plt.imshow(F)\n",
    "    plt.xticks(ticks=range(len(ref)), labels=ref)\n",
    "    plt.yticks(ticks=range(len(r)), labels=r)\n",
    "    plt.plot(path_y, path_x, 'w')\n",
    "    plt.show()\n",
    "    \n",
    "print('In total, {} bases were clipped'.format(total_num_clipped_bases))"
   ]
  },
  {
   "cell_type": "markdown",
   "id": "0893bdbb-882d-47c7-a3c3-485386cf044b",
   "metadata": {},
   "source": [
    "**Experiment** &mdash; Calculate the entropy of the noisy reads and of the residual (plus an estimate for the clipped bases)."
   ]
  },
  {
   "cell_type": "code",
   "execution_count": 39,
   "id": "6ade227a-35b3-4d19-8d4c-01a465b11930",
   "metadata": {},
   "outputs": [
    {
     "name": "stdout",
     "output_type": "stream",
     "text": [
      "Entropy (noisy reads): 1.94 bit/symbol\n",
      "Maximum compressed size (noisy reads): 128 bit = 16 byte\n",
      "Entropy (residuals): 0.36 bit/symbol\n",
      "Maximum compressed size (residuals + clipped bases): 20 + 28 bit = 48 bit = 6 byte\n",
      "Theoretical gain achieved by alignment: 62.50%\n"
     ]
    }
   ],
   "source": [
    "noisy_reads = ''.join(noisy_reads)\n",
    "noisy_reads_eta = entropy.entropy(noisy_reads)\n",
    "print('Entropy (noisy reads): {:.2f} bit/symbol'.format(round(noisy_reads_eta, 2)))\n",
    "\n",
    "noisy_reads_max_size_in_bit = math.ceil(noisy_reads_eta * len(noisy_reads))\n",
    "noisy_reads_max_size_in_byte = math.ceil(noisy_reads_max_size_in_bit / 8)\n",
    "print('Maximum compressed size (noisy reads): {} bit = {} byte'.format(\n",
    "    noisy_reads_max_size_in_bit, noisy_reads_max_size_in_byte))\n",
    "           \n",
    "residuals = ''.join(residuals)\n",
    "residuals_eta = entropy.entropy(residuals)\n",
    "print('Entropy (residuals): {:.2f} bit/symbol'.format(round(residuals_eta, 2)))\n",
    "\n",
    "residuals_max_size_in_bit = math.ceil(residuals_eta * len(residuals))\n",
    "clips_max_size_in_bit = total_num_clipped_bases * 2\n",
    "aligned_reads_max_size_in_bit = residuals_max_size_in_bit + clips_max_size_in_bit\n",
    "aligned_reads_max_size_in_byte = math.ceil((aligned_reads_max_size_in_bit) / 8)\n",
    "\n",
    "print('Maximum compressed size (residuals + clipped bases): {} + {} bit = {} bit = {} byte'.format(\n",
    "    residuals_max_size_in_bit, clips_max_size_in_bit, aligned_reads_max_size_in_bit, aligned_reads_max_size_in_byte))\n",
    "\n",
    "print('Theoretical gain achieved by alignment: {:.2f}%'.format(\n",
    "    100 * ((noisy_reads_max_size_in_byte - aligned_reads_max_size_in_byte) / noisy_reads_max_size_in_byte)))"
   ]
  },
  {
   "cell_type": "code",
   "execution_count": null,
   "id": "d645a809-076c-4c56-9084-7a48d3f2aad6",
   "metadata": {},
   "outputs": [],
   "source": []
  }
 ],
 "metadata": {
  "kernelspec": {
   "display_name": "Python 3",
   "language": "python",
   "name": "python3"
  },
  "language_info": {
   "codemirror_mode": {
    "name": "ipython",
    "version": 3
   },
   "file_extension": ".py",
   "mimetype": "text/x-python",
   "name": "python",
   "nbconvert_exporter": "python",
   "pygments_lexer": "ipython3",
   "version": "3.6.15"
  }
 },
 "nbformat": 4,
 "nbformat_minor": 5
}
