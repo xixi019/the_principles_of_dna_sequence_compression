{
 "cells": [
  {
   "cell_type": "markdown",
   "id": "d259ca9b-ad28-47e6-9777-80740cdbfbbf",
   "metadata": {},
   "source": [
    "# The Underlying Principles of DNA Sequence Compression"
   ]
  },
  {
   "cell_type": "markdown",
   "id": "fb4a396f-8173-45b6-8e6d-8db4fbf99249",
   "metadata": {},
   "source": [
    "The FASTQ format is a text-based format for storing both a biological sequence (usually nucleotide sequence) and its corresponding quality scores. Both the sequence letter and quality score are each encoded with a single ASCII character for brevity. "
   ]
  },
  {
   "cell_type": "markdown",
   "id": "5c3b3b8f-84aa-4c30-b772-5222918423f3",
   "metadata": {},
   "source": [
    "## Reading and parsing a FASTQ file"
   ]
  },
  {
   "cell_type": "code",
   "execution_count": 21,
   "id": "155c9a6b-ad23-4f1d-a38a-667057ea02ce",
   "metadata": {},
   "outputs": [
    {
     "name": "stdout",
     "output_type": "stream",
     "text": [
      "Record: {'name': '@SEQ_ID', 'sequence': 'GATTTGGGGTTCAAAGCAGTATCGATCAAATAGTAAATCCATTTGTTCAACTCACAGTTT', 'optional': '+', 'quality': \"!''*((((***+))%%%++)(%%%%).1***-+*''))**55CCF>>>>>>CCCCCCC65\"}\n",
      "Record: {'name': '@SEQ_ID', 'sequence': 'GATTTGGGGTTCAAAGCAGTATCGATCAAATAGTAAATCCATTTGTTCAACTCACAGTTT', 'optional': '+', 'quality': \"!''*((((***+))%%%++)(%%%%).1***-+*''))**55CCF>>>>>>CCCCCCC65\"}\n",
      "Record: {'name': '@SEQ_ID', 'sequence': 'GATTTGGGGTTCAAAGCAGTATCGATCAAATAGTAAATCCATTTGTTCAACTCACAGTTT', 'optional': '+', 'quality': \"!''*((((***+))%%%++)(%%%%).1***-+*''))**55CCF>>>>>>CCCCCCC65\"}\n"
     ]
    }
   ],
   "source": [
    "def process(lines=None):\n",
    "    keys = ['name', 'sequence', 'optional', 'quality']\n",
    "    return {key: value for key, value in zip(keys, lines)}\n",
    "\n",
    "\n",
    "file_name = 'example.fastq'\n",
    "with open(file_name, 'r') as f:\n",
    "    lines = []\n",
    "    for line in f:\n",
    "        lines.append(line.rstrip())\n",
    "        if len(lines) == 4:\n",
    "            record = process(lines)\n",
    "            print(\"Record: {}\".format(str(record)))\n",
    "            lines = []"
   ]
  },
  {
   "cell_type": "markdown",
   "id": "1e2b8341-6fc5-482f-b6bb-15eaaf8b9b75",
   "metadata": {},
   "source": [
    "## Compressing DNA Sequences\n",
    "\n",
    "The entropy of the sequence is an estimate of its compressibility:"
   ]
  },
  {
   "cell_type": "code",
   "execution_count": 22,
   "id": "6e11f862-b24d-4a2e-9c85-5bd604c9bcdd",
   "metadata": {},
   "outputs": [
    {
     "name": "stdout",
     "output_type": "stream",
     "text": [
      "Sequence: GATTTGGGGTTCAAAGCAGTATCGATCAAATAGTAAATCCATTTGTTCAACTCACAGTTTGATTTGGGGTTCAAAGCAGTATCGATCAAATAGTAAATCCATTTGTTCAACTCACAGTTTGATTTGGGGTTCAAAGCAGTATCGATCAAATAGTAAATCCATTTGTTCAACTCACAGTTTGATTTGGGGTTCAAAGCAGTATCGATCAAATAGTAAATCCATTTGTTCAACTCACAGTTTGATTTGGGGTTCAAAGCAGTATCGATCAAATAGTAAATCCATTTGTTCAACTCACAGTTTGATTTGGGGTTCAAAGCAGTATCGATCAAATAGTAAATCCATTTGTTCAACTCACAGTTTGATTTGGGGTTCAAAGCAGTATCGATCAAATAGTAAATCCATTTGTTCAACTCACAGTTTGATTTGGGGTTCAAAGCAGTATCGATCAAATAGTAAATCCATTTGTTCAACTCACAGTTTGATTTGGGGTTCAAAGCAGTATCGATCAAATAGTAAATCCATTTGTTCAACTCACAGTTTGATTTGGGGTTCAAAGCAGTATCGATCAAATAGTAAATCCATTTGTTCAACTCACAGTTT\n",
      "Length: 600\n",
      "Entropy: 1.93 bit/symbol\n",
      "Maximum compressed size: 1160 bit\n",
      "Maximum compressed size: 145 byte\n"
     ]
    }
   ],
   "source": [
    "import entropy\n",
    "import math\n",
    "\n",
    "seq = record['sequence'] * 10\n",
    "seq_len = len(seq)\n",
    "print('Sequence: {}'.format(seq))\n",
    "print('Length: {}'.format(seq_len))\n",
    "\n",
    "eta = entropy.calculate(seq)\n",
    "print('Entropy: {0:.2f} bit/symbol'.format(round(eta, 2)))\n",
    "\n",
    "min_size_in_bit = math.ceil(eta * seq_len)\n",
    "min_size_in_byte = math.ceil(min_size_in_bit / 8)\n",
    "print('Maximum compressed size: {} bit'.format(min_size_in_bit))\n",
    "print('Maximum compressed size: {} byte'.format(min_size_in_byte))"
   ]
  },
  {
   "cell_type": "markdown",
   "id": "0136195c-5134-4435-82e4-e95356f44415",
   "metadata": {},
   "source": [
    "Using gzip:"
   ]
  },
  {
   "cell_type": "code",
   "execution_count": 23,
   "id": "07bf299c-c613-4731-a393-71ee6be2bce0",
   "metadata": {},
   "outputs": [
    {
     "name": "stdout",
     "output_type": "stream",
     "text": [
      "Length: 65\n",
      "GATTTGGGGTTCAAAGCAGTATCGATCAAATAGTAAATCCATTTGTTCAACTCACAGTTTGATTTGGGGTTCAAAGCAGTATCGATCAAATAGTAAATCCATTTGTTCAACTCACAGTTTGATTTGGGGTTCAAAGCAGTATCGATCAAATAGTAAATCCATTTGTTCAACTCACAGTTTGATTTGGGGTTCAAAGCAGTATCGATCAAATAGTAAATCCATTTGTTCAACTCACAGTTTGATTTGGGGTTCAAAGCAGTATCGATCAAATAGTAAATCCATTTGTTCAACTCACAGTTTGATTTGGGGTTCAAAGCAGTATCGATCAAATAGTAAATCCATTTGTTCAACTCACAGTTTGATTTGGGGTTCAAAGCAGTATCGATCAAATAGTAAATCCATTTGTTCAACTCACAGTTTGATTTGGGGTTCAAAGCAGTATCGATCAAATAGTAAATCCATTTGTTCAACTCACAGTTTGATTTGGGGTTCAAAGCAGTATCGATCAAATAGTAAATCCATTTGTTCAACTCACAGTTTGATTTGGGGTTCAAAGCAGTATCGATCAAATAGTAAATCCATTTGTTCAACTCACAGTTT\n",
      "Compression factor: 9.23x\n"
     ]
    }
   ],
   "source": [
    "import gzip\n",
    "\n",
    "compressed_seq = gzip.compress(data=bytes(seq, 'utf-8'))\n",
    "compressed_seq_len = len(compressed_seq)\n",
    "print('Length: {}'.format(compressed_seq_len))\n",
    "decompressed_seq = gzip.decompress(data=compressed_seq)\n",
    "print(decompressed_seq.decode('utf-8'))\n",
    "comp_factor = seq_len / compressed_seq_len\n",
    "print('Compression factor: {:.2f}x'.format(comp_factor))"
   ]
  },
  {
   "cell_type": "code",
   "execution_count": null,
   "id": "3881de8f-e4a2-4cd6-a687-3c1454dbc1b4",
   "metadata": {},
   "outputs": [],
   "source": []
  },
  {
   "cell_type": "code",
   "execution_count": 44,
   "id": "e22dffac-2c90-4c02-810c-03f6ae3bf698",
   "metadata": {},
   "outputs": [
    {
     "data": {
      "image/png": "[encoded data removed]",
      "text/plain": [
       "<Figure size 432x288 with 2 Axes>"
      ]
     },
     "metadata": {
      "needs_background": "light"
     },
     "output_type": "display_data"
    }
   ],
   "source": [
    "import alignment\n",
    "import entropy\n",
    "\n",
    "x = \"GGGAAATTTTTTAAACCCAAA\"\n",
    "y = \"GGGAAATTTTTTAAACCCCCCAAA\"\n",
    "x_aligned, y_aligned, path_x, path_y, F = alignment.nw(x=x, y=y)\n",
    "\n",
    "%matplotlib inline\n",
    "import matplotlib.pyplot as plt\n",
    "plt.imshow(F)\n",
    "plt.xticks(ticks=range(len(y)), labels=y)\n",
    "plt.yticks(ticks=range(len(x)), labels=x)\n",
    "plt.colorbar()\n",
    "plt.plot(path_y, path_x, 'w')\n",
    "plt.show()"
   ]
  },
  {
   "cell_type": "code",
   "execution_count": 25,
   "id": "3ad3e05c-8749-44ae-ab43-0405758698ad",
   "metadata": {},
   "outputs": [
    {
     "name": "stdout",
     "output_type": "stream",
     "text": [
      "sw: multiple (2) possible traceback starts\n",
      "sw: choosing [12  8]\n"
     ]
    },
    {
     "data": {
      "image/png": "[encoded data removed]",
      "text/plain": [
       "<Figure size 432x288 with 2 Axes>"
      ]
     },
     "metadata": {
      "needs_background": "light"
     },
     "output_type": "display_data"
    }
   ],
   "source": [
    "import alignment\n",
    "\n",
    "x = \"UUUUUGATTACAUUUUUGATUU\"\n",
    "y = \"GATTACCA\"\n",
    "x_aligned, y_aligned, path_x, path_y, F = alignment.sw(x=x, y=y)\n",
    "\n",
    "%matplotlib inline\n",
    "import matplotlib.pyplot as plt\n",
    "plt.imshow(F)\n",
    "plt.xticks(ticks=range(len(y)), labels=y)\n",
    "plt.yticks(ticks=range(len(x)), labels=x)\n",
    "plt.colorbar()\n",
    "plt.plot(path_y, path_x, 'w')\n",
    "plt.show()"
   ]
  },
  {
   "cell_type": "code",
   "execution_count": 26,
   "id": "a735f6f8-c63b-450b-944d-1893b7bbec44",
   "metadata": {},
   "outputs": [
    {
     "name": "stdout",
     "output_type": "stream",
     "text": [
      "Read 0 range: [  5  14] (length: 10)\n",
      "Read: GGGGTTCAAA\n",
      "Read 1 range: [ 31  36] (length: 6)\n",
      "Read: AGTAAA\n",
      "Read 2 range: [ 20  24] (length: 5)\n",
      "Read: ATCGA\n",
      "Read 3 range: [  7  16] (length: 10)\n",
      "Read: GGTTCAAAGC\n",
      "Read 4 range: [ 50  59] (length: 10)\n",
      "Read: CTCACAGTTT\n",
      "Read 5 range: [  1   5] (length: 5)\n",
      "Read: ATTTG\n",
      "Read 6 range: [ 22  27] (length: 6)\n",
      "Read: CGATCA\n",
      "Read 7 range: [ 40  48] (length: 9)\n",
      "Read: ATTTGTTCA\n",
      "Read 8 range: [ 51  58] (length: 8)\n",
      "Read: TCACAGTT\n",
      "Read 9 range: [ 28  34] (length: 7)\n",
      "Read: AATAGTA\n",
      "['GGGGTTCAAA', 'AGTAAA', 'ATCGA', 'GGTTCAAAGC', 'CTCACAGTTT', 'ATTTG', 'CGATCA', 'ATTTGTTCA', 'TCACAGTT', 'AATAGTA']\n"
     ]
    }
   ],
   "source": [
    "import random\n",
    "\n",
    "ref = 'GATTTGGGGTTCAAAGCAGTATCGATCAAATAGTAAATCCATTTGTTCAACTCACAGTTTA'\n",
    "#ref= 'GATTACA'\n",
    "\n",
    "reads = []\n",
    "num_reads = 10\n",
    "min_read_len = 5\n",
    "max_read_len = 10\n",
    "for i in range(num_reads):\n",
    "    range_acquired = False\n",
    "    start = 0\n",
    "    end = 0\n",
    "    while not range_acquired:\n",
    "        start = random.randrange(len(ref))\n",
    "        end = random.randrange(len(ref))\n",
    "        if start > end:\n",
    "            continue\n",
    "        if (end - start+1) < min_read_len:\n",
    "            continue\n",
    "        if (end - start+1) > max_read_len:\n",
    "            continue\n",
    "        range_acquired = True\n",
    "    print('Read {} range: [{:3d} {:3d}] (length: {})'.format(i, start, end, end-start+1))\n",
    "    read = ref[start:end+1]\n",
    "    print('Read: {}'.format(read))\n",
    "    reads.append(read)\n",
    "print(reads)\n",
    "    "
   ]
  },
  {
   "cell_type": "code",
   "execution_count": 41,
   "id": "49df8a38-6ec8-460a-aa81-d247195e3402",
   "metadata": {},
   "outputs": [
    {
     "name": "stdout",
     "output_type": "stream",
     "text": [
      "GGGGTTCAAA\n",
      "TGGTTTTAAC\n"
     ]
    },
    {
     "data": {
      "image/png": "[encoded data removed]",
      "text/plain": [
       "<Figure size 1440x720 with 1 Axes>"
      ]
     },
     "metadata": {
      "needs_background": "light"
     },
     "output_type": "display_data"
    },
    {
     "name": "stdout",
     "output_type": "stream",
     "text": [
      "[42, 43, 44, 45, 46, 47, 48, 49, 50]\n",
      "42\n",
      "TT-TT-AAC\n",
      "TTGTTCAAC\n",
      "0\n",
      "9\n",
      "1\n",
      "9\n",
      "2\n",
      "9\n",
      "3\n",
      "9\n",
      "4\n",
      "9\n",
      "5\n",
      "9\n",
      "6\n",
      "9\n",
      "7\n",
      "9\n",
      "8\n",
      "9\n",
      "mm-mm-mmm\n",
      "---\n",
      "AGTAAA\n",
      "ACTAGA\n",
      "sw: multiple (6) possible traceback starts\n",
      "sw: choosing [ 4 54]\n"
     ]
    },
    {
     "data": {
      "image/png": "[encoded data removed]",
      "text/plain": [
       "<Figure size 1440x720 with 1 Axes>"
      ]
     },
     "metadata": {
      "needs_background": "light"
     },
     "output_type": "display_data"
    },
    {
     "name": "stdout",
     "output_type": "stream",
     "text": [
      "[49, 50, 51, 52, 53]\n",
      "49\n",
      "ACT-A\n",
      "ACTCA\n",
      "0\n",
      "5\n",
      "1\n",
      "5\n",
      "2\n",
      "5\n",
      "3\n",
      "5\n",
      "4\n",
      "5\n",
      "mmm-m\n",
      "---\n",
      "ATCGA\n",
      "GTATC\n"
     ]
    },
    {
     "data": {
      "image/png": "[encoded data removed]",
      "text/plain": [
       "<Figure size 1440x720 with 1 Axes>"
      ]
     },
     "metadata": {
      "needs_background": "light"
     },
     "output_type": "display_data"
    },
    {
     "name": "stdout",
     "output_type": "stream",
     "text": [
      "[18, 19, 20, 21, 22]\n",
      "18\n",
      "GTATC\n",
      "GTATC\n",
      "0\n",
      "5\n",
      "1\n",
      "5\n",
      "2\n",
      "5\n",
      "3\n",
      "5\n",
      "4\n",
      "5\n",
      "mmmmm\n",
      "---\n",
      "GGTTCAAAGC\n",
      "GGCTCTTAGC\n"
     ]
    },
    {
     "data": {
      "image/png": "[encoded data removed]",
      "text/plain": [
       "<Figure size 1440x720 with 1 Axes>"
      ]
     },
     "metadata": {
      "needs_background": "light"
     },
     "output_type": "display_data"
    },
    {
     "name": "stdout",
     "output_type": "stream",
     "text": [
      "[7, 8, 9, 10, 11, 12, 13, 14, 15, 16]\n",
      "7\n",
      "GGCTCTTAGC\n",
      "GGTTCAAAGC\n",
      "0\n",
      "10\n",
      "1\n",
      "10\n",
      "2\n",
      "10\n",
      "3\n",
      "10\n",
      "4\n",
      "10\n",
      "5\n",
      "10\n",
      "6\n",
      "10\n",
      "7\n",
      "10\n",
      "8\n",
      "10\n",
      "9\n",
      "10\n",
      "mmCmmTTmmm\n",
      "---\n",
      "CTCACAGTTT\n",
      "TACACAGTTG\n"
     ]
    },
    {
     "data": {
      "image/png": "[encoded data removed]",
      "text/plain": [
       "<Figure size 1440x720 with 1 Axes>"
      ]
     },
     "metadata": {
      "needs_background": "light"
     },
     "output_type": "display_data"
    },
    {
     "name": "stdout",
     "output_type": "stream",
     "text": [
      "[52, 53, 54, 55, 56, 57, 58]\n",
      "52\n",
      "CACAGTT\n",
      "CACAGTT\n",
      "0\n",
      "7\n",
      "1\n",
      "7\n",
      "2\n",
      "7\n",
      "3\n",
      "7\n",
      "4\n",
      "7\n",
      "5\n",
      "7\n",
      "6\n",
      "7\n",
      "mmmmmmm\n",
      "---\n",
      "ATTTG\n",
      "TTTTG\n",
      "sw: multiple (2) possible traceback starts\n",
      "sw: choosing [5 6]\n"
     ]
    },
    {
     "data": {
      "image/png": "[encoded data removed]",
      "text/plain": [
       "<Figure size 1440x720 with 1 Axes>"
      ]
     },
     "metadata": {
      "needs_background": "light"
     },
     "output_type": "display_data"
    },
    {
     "name": "stdout",
     "output_type": "stream",
     "text": [
      "[2, 3, 4, 5]\n",
      "2\n",
      "TTTG\n",
      "TTTG\n",
      "0\n",
      "4\n",
      "1\n",
      "4\n",
      "2\n",
      "4\n",
      "3\n",
      "4\n",
      "mmmm\n",
      "---\n",
      "CGATCA\n",
      "AAAAGT\n"
     ]
    },
    {
     "data": {
      "image/png": "[encoded data removed]",
      "text/plain": [
       "<Figure size 1440x720 with 1 Axes>"
      ]
     },
     "metadata": {
      "needs_background": "light"
     },
     "output_type": "display_data"
    },
    {
     "name": "stdout",
     "output_type": "stream",
     "text": [
      "[27, 28, 29, 30, 31, 32, 33]\n",
      "27\n",
      "AAA-AGT\n",
      "AAATAGT\n",
      "0\n",
      "7\n",
      "1\n",
      "7\n",
      "2\n",
      "7\n",
      "3\n",
      "7\n",
      "4\n",
      "7\n",
      "5\n",
      "7\n",
      "6\n",
      "7\n",
      "mmm-mmm\n",
      "---\n",
      "ATTTGTTCA\n",
      "TGTTGTTGC\n",
      "sw: multiple (2) possible traceback starts\n",
      "sw: choosing [ 9 48]\n"
     ]
    },
    {
     "data": {
      "image/png": "[encoded data removed]",
      "text/plain": [
       "<Figure size 1440x720 with 1 Axes>"
      ]
     },
     "metadata": {
      "needs_background": "light"
     },
     "output_type": "display_data"
    },
    {
     "name": "stdout",
     "output_type": "stream",
     "text": [
      "[42, 43, 44, 45, 46, 46, 47]\n",
      "42\n",
      "TTGTTGC\n",
      "TTGTTC\n",
      "0\n",
      "6\n",
      "1\n",
      "6\n",
      "2\n",
      "6\n",
      "3\n",
      "6\n",
      "4\n",
      "6\n",
      "5\n",
      "6\n",
      "6\n",
      "6\n",
      "mmmmmGC\n",
      "---\n",
      "TCACAGTT\n",
      "CCAATCAT\n",
      "sw: multiple (2) possible traceback starts\n",
      "sw: choosing [ 8 42]\n"
     ]
    },
    {
     "data": {
      "image/png": "[encoded data removed]",
      "text/plain": [
       "<Figure size 1440x720 with 1 Axes>"
      ]
     },
     "metadata": {
      "needs_background": "light"
     },
     "output_type": "display_data"
    },
    {
     "name": "stdout",
     "output_type": "stream",
     "text": [
      "[35, 36, 37, 38, 39, 40, 41]\n",
      "35\n",
      "AAT-CAT\n",
      "AATCCAT\n",
      "0\n",
      "7\n",
      "1\n",
      "7\n",
      "2\n",
      "7\n",
      "3\n",
      "7\n",
      "4\n",
      "7\n",
      "5\n",
      "7\n",
      "6\n",
      "7\n",
      "mmm-mmm\n",
      "---\n",
      "AATAGTA\n",
      "CATGGAC\n",
      "sw: multiple (4) possible traceback starts\n",
      "sw: choosing [ 3 42]\n"
     ]
    },
    {
     "data": {
      "image/png": "[encoded data removed]",
      "text/plain": [
       "<Figure size 1440x720 with 1 Axes>"
      ]
     },
     "metadata": {
      "needs_background": "light"
     },
     "output_type": "display_data"
    },
    {
     "name": "stdout",
     "output_type": "stream",
     "text": [
      "[39, 40, 41]\n",
      "39\n",
      "CAT\n",
      "CAT\n",
      "0\n",
      "3\n",
      "1\n",
      "3\n",
      "2\n",
      "3\n",
      "mmm\n",
      "---\n"
     ]
    }
   ],
   "source": [
    "import alignment\n",
    "\n",
    "#introduce some noise?\n",
    "def add_noise(read):\n",
    "    choices = ['A', 'C', 'G', 'T']\n",
    "    noisy_read = ''\n",
    "    for base in read:\n",
    "        if random.randint(a=0, b=1) == 0:\n",
    "            noisy_base = random.choice([c for c in choices if c != base])\n",
    "            noisy_read += noisy_base\n",
    "        else:\n",
    "            noisy_read += base\n",
    "    return noisy_read\n",
    "\n",
    "\n",
    "diffs = []\n",
    "for read in reads:\n",
    "    print(read)\n",
    "    read = add_noise(read)\n",
    "    print(read)\n",
    "    read_aligned, ref_aligned, path_x, path_y, F = alignment.sw(x=read, y=ref)\n",
    "    \n",
    "    %matplotlib inline\n",
    "    import matplotlib.pyplot as plt\n",
    "    \n",
    "    plt.figure(figsize=[20,10])\n",
    "    plt.imshow(F)\n",
    "    plt.xticks(ticks=range(len(ref)), labels=ref)\n",
    "    plt.yticks(ticks=range(len(read)), labels=read)\n",
    "    #plt.colorbar()\n",
    "    plt.plot(path_y, path_x, 'w')\n",
    "    plt.show()\n",
    "    \n",
    "    print(path_y)\n",
    "    print(path_y[0]) # mapping position\n",
    "    print(read_aligned)\n",
    "    # get ref substring\n",
    "    print(ref[path_y[0]:path_y[-1]+1])\n",
    "    \n",
    "    ref_substring = ref[path_y[0]:path_y[-1]+1]\n",
    "    diff = ''\n",
    "    for i in range(len(read_aligned)):\n",
    "        print(i)\n",
    "        print(len(ref_substring))\n",
    "        if i >= len(ref_substring) or read_aligned[i] != ref_substring[i]:\n",
    "            diff += read_aligned[i]\n",
    "        else:\n",
    "            diff += 'm'\n",
    "\n",
    "    print(diff)\n",
    "    diffs.append(diff)\n",
    "    \n",
    "    print('---')"
   ]
  },
  {
   "cell_type": "markdown",
   "id": "0893bdbb-882d-47c7-a3c3-485386cf044b",
   "metadata": {},
   "source": []
  },
  {
   "cell_type": "code",
   "execution_count": 28,
   "id": "7e498ee1-4f66-41e5-bdbd-1c2ac6d058a6",
   "metadata": {},
   "outputs": [
    {
     "name": "stdout",
     "output_type": "stream",
     "text": [
      "['GGGGTTCAAA', 'AGTAAA', 'ATCGA', 'GGTTCAAAGC', 'CTCACAGTTT', 'ATTTG', 'CGATCA', 'ATTTGTTCA', 'TCACAGTT', 'AATAGTA']\n",
      "['mmAmGmmCA', 'mm-mmm-m', 'mm', 'mmGmmmmCT', 'mmmTmTmmmm', 'mmm', 'mmmmm', 'mmGmmmm', 'mmmmTA-mT', 'mmmm']\n"
     ]
    }
   ],
   "source": [
    "print(reads)\n",
    "print(diffs)"
   ]
  },
  {
   "cell_type": "code",
   "execution_count": 29,
   "id": "6ade227a-35b3-4d19-8d4c-01a465b11930",
   "metadata": {},
   "outputs": [
    {
     "name": "stdout",
     "output_type": "stream",
     "text": [
      "Entropy: 1.94 bit/symbol\n",
      "Entropy: 1.35 bit/symbol\n"
     ]
    }
   ],
   "source": [
    "import entropy\n",
    "eta = entropy.calculate(''.join(reads))\n",
    "print('Entropy: {0:.2f} bit/symbol'.format(round(eta, 2)))\n",
    "eta = entropy.calculate(''.join(diffs))\n",
    "print('Entropy: {0:.2f} bit/symbol'.format(round(eta, 2)))"
   ]
  },
  {
   "cell_type": "code",
   "execution_count": null,
   "id": "184524e5-df7b-4898-9fe9-401b57f7b64c",
   "metadata": {},
   "outputs": [],
   "source": []
  }
 ],
 "metadata": {
  "kernelspec": {
   "display_name": "Python 3",
   "language": "python",
   "name": "python3"
  },
  "language_info": {
   "codemirror_mode": {
    "name": "ipython",
    "version": 3
   },
   "file_extension": ".py",
   "mimetype": "text/x-python",
   "name": "python",
   "nbconvert_exporter": "python",
   "pygments_lexer": "ipython3",
   "version": "3.6.15"
  }
 },
 "nbformat": 4,
 "nbformat_minor": 5
}
